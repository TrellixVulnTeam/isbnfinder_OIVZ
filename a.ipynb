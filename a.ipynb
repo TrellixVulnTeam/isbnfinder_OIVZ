{
 "cells": [
  {
   "cell_type": "code",
   "execution_count": 2,
   "metadata": {},
   "outputs": [],
   "source": [
    "from isbntools.app import *\n",
    "import csv\n",
    "\n",
    "# https://stackoverflow.com/questions/45824640/find-isbn-of-a-list-with-many-books"
   ]
  },
  {
   "cell_type": "code",
   "execution_count": 20,
   "metadata": {},
   "outputs": [],
   "source": [
    "failed = []\n",
    "isbns = []\n",
    "\n",
    "with open('books.csv') as f:\n",
    "    bookreader = csv.reader(f)\n",
    "    for book in bookreader:\n",
    "        title = book[0].strip()\n",
    "        try:\n",
    "            isbn = isbn_from_words(title)\n",
    "            isbns.append((title, isbn))\n",
    "        except:\n",
    "            failed.append(title)\n",
    "\n",
    "with open('isbns.csv', mode='w', newline='') as wf:\n",
    "    writer = csv.writer(wf)\n",
    "    writer.writerows(isbns)"
   ]
  },
  {
   "cell_type": "code",
   "execution_count": 21,
   "metadata": {},
   "outputs": [
    {
     "data": {
      "text/plain": [
       "[]"
      ]
     },
     "execution_count": 21,
     "metadata": {},
     "output_type": "execute_result"
    }
   ],
   "source": [
    "failed"
   ]
  },
  {
   "cell_type": "code",
   "execution_count": null,
   "metadata": {},
   "outputs": [],
   "source": []
  }
 ],
 "metadata": {
  "interpreter": {
   "hash": "a5b7aeff42ba6761a280498ade45e749cf5f5c1a448f52619a139fff18264354"
  },
  "kernelspec": {
   "display_name": "Python 3.7.12 64-bit ('base': conda)",
   "language": "python",
   "name": "python3"
  },
  "language_info": {
   "codemirror_mode": {
    "name": "ipython",
    "version": 3
   },
   "file_extension": ".py",
   "mimetype": "text/x-python",
   "name": "python",
   "nbconvert_exporter": "python",
   "pygments_lexer": "ipython3",
   "version": "3.9.6"
  },
  "orig_nbformat": 4
 },
 "nbformat": 4,
 "nbformat_minor": 2
}
